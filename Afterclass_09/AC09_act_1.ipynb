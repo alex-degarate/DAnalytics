{
  "nbformat": 4,
  "nbformat_minor": 0,
  "metadata": {
    "colab": {
      "provenance": []
    },
    "kernelspec": {
      "name": "python3",
      "display_name": "Python 3"
    },
    "language_info": {
      "name": "python"
    }
  },
  "cells": [
    {
      "cell_type": "markdown",
      "source": [
        "# Actividad 1: Análisis de Tendencia Central"
      ],
      "metadata": {
        "id": "xdmrHW5xoO1b"
      }
    },
    {
      "cell_type": "code",
      "execution_count": 1,
      "metadata": {
        "colab": {
          "base_uri": "https://localhost:8080/"
        },
        "id": "Q_cRxSeob8tH",
        "outputId": "839798c2-9a56-43a3-c14f-1e756fa42032"
      },
      "outputs": [
        {
          "output_type": "stream",
          "name": "stdout",
          "text": [
            "           Mes  Ventas (millones)\n",
            "0        Enero                1.2\n",
            "1      Febrero                2.5\n",
            "2        Marzo                3.1\n",
            "3        Abril               18.3\n",
            "4         Mayo               40.5\n",
            "5        Junio               52.1\n",
            "6        Julio               54.8\n",
            "7       Agosto               46.2\n",
            "8   Septiembre               25.5\n",
            "9      Octubre               13.8\n",
            "10   Noviembre               11.9\n",
            "11   Diciembre                9.2\n"
          ]
        }
      ],
      "source": [
        "import pandas as pd\n",
        "import numpy as np\n",
        "from scipy import stats\n",
        "\n",
        "ventas = {\n",
        "'Mes': ['Enero', 'Febrero', 'Marzo', 'Abril', 'Mayo', 'Junio',\n",
        "'Julio', 'Agosto', 'Septiembre', 'Octubre', 'Noviembre', 'Diciembre'],\n",
        "'Ventas (millones)': [1.2, 2.5, 3.1, 18.3, 40.5, 52.1, 54.8, 46.2,\n",
        "25.5, 13.8, 11.9, 9.2]\n",
        "}\n",
        "\n",
        "#genero un DF para analisis y una tabla de trabajo\n",
        "df_ventas = pd.DataFrame(ventas)\n",
        "ventas_pp = df_ventas['Ventas (millones)']\n",
        "\n",
        "print(df_ventas)\n",
        "\n"
      ]
    },
    {
      "cell_type": "markdown",
      "source": [
        "### Objetivos\n",
        "\n",
        "●​ Calcular la media, la mediana y la moda de las ventas mensuales.  \n",
        "●​ Comprender la importancia de estas medidas en el análisis de datos de\n",
        "ventas.  \n",
        "\n",
        "Ejercicio práctico\n",
        "Realiza los siguientes cálculos con los datos sobre las ventas mensuales\n",
        "en unidades del último año:\n",
        "1.​Calcular la media de las ventas.  \n",
        "2.​Calcular la mediana de las ventas.  \n",
        "3.​Calcular la moda de las ventas.  \n",
        "Interpretá y explicá qué significan estos valores.  \n",
        "  "
      ],
      "metadata": {
        "id": "vfLWQMJ-doSN"
      }
    },
    {
      "cell_type": "code",
      "source": [
        "ventas_pp.info()"
      ],
      "metadata": {
        "colab": {
          "base_uri": "https://localhost:8080/"
        },
        "id": "SbJSoU7EhDYS",
        "outputId": "5a71c956-1a7e-4abb-cbcf-f870d2f8c17c"
      },
      "execution_count": null,
      "outputs": [
        {
          "output_type": "stream",
          "name": "stdout",
          "text": [
            "<class 'pandas.core.series.Series'>\n",
            "RangeIndex: 12 entries, 0 to 11\n",
            "Series name: Ventas (millones)\n",
            "Non-Null Count  Dtype  \n",
            "--------------  -----  \n",
            "12 non-null     float64\n",
            "dtypes: float64(1)\n",
            "memory usage: 228.0 bytes\n"
          ]
        }
      ]
    },
    {
      "cell_type": "code",
      "source": [
        "ventas_pp.describe()\n"
      ],
      "metadata": {
        "colab": {
          "base_uri": "https://localhost:8080/",
          "height": 335
        },
        "id": "DVNhKjhidULD",
        "outputId": "36e8a3d8-481b-43b7-a5fb-3dc5b1cbc335"
      },
      "execution_count": 2,
      "outputs": [
        {
          "output_type": "execute_result",
          "data": {
            "text/plain": [
              "count    12.000000\n",
              "mean     23.258333\n",
              "std      20.045106\n",
              "min       1.200000\n",
              "25%       7.675000\n",
              "50%      16.050000\n",
              "75%      41.925000\n",
              "max      54.800000\n",
              "Name: Ventas (millones), dtype: float64"
            ],
            "text/html": [
              "<div>\n",
              "<style scoped>\n",
              "    .dataframe tbody tr th:only-of-type {\n",
              "        vertical-align: middle;\n",
              "    }\n",
              "\n",
              "    .dataframe tbody tr th {\n",
              "        vertical-align: top;\n",
              "    }\n",
              "\n",
              "    .dataframe thead th {\n",
              "        text-align: right;\n",
              "    }\n",
              "</style>\n",
              "<table border=\"1\" class=\"dataframe\">\n",
              "  <thead>\n",
              "    <tr style=\"text-align: right;\">\n",
              "      <th></th>\n",
              "      <th>Ventas (millones)</th>\n",
              "    </tr>\n",
              "  </thead>\n",
              "  <tbody>\n",
              "    <tr>\n",
              "      <th>count</th>\n",
              "      <td>12.000000</td>\n",
              "    </tr>\n",
              "    <tr>\n",
              "      <th>mean</th>\n",
              "      <td>23.258333</td>\n",
              "    </tr>\n",
              "    <tr>\n",
              "      <th>std</th>\n",
              "      <td>20.045106</td>\n",
              "    </tr>\n",
              "    <tr>\n",
              "      <th>min</th>\n",
              "      <td>1.200000</td>\n",
              "    </tr>\n",
              "    <tr>\n",
              "      <th>25%</th>\n",
              "      <td>7.675000</td>\n",
              "    </tr>\n",
              "    <tr>\n",
              "      <th>50%</th>\n",
              "      <td>16.050000</td>\n",
              "    </tr>\n",
              "    <tr>\n",
              "      <th>75%</th>\n",
              "      <td>41.925000</td>\n",
              "    </tr>\n",
              "    <tr>\n",
              "      <th>max</th>\n",
              "      <td>54.800000</td>\n",
              "    </tr>\n",
              "  </tbody>\n",
              "</table>\n",
              "</div><br><label><b>dtype:</b> float64</label>"
            ]
          },
          "metadata": {},
          "execution_count": 2
        }
      ]
    },
    {
      "cell_type": "markdown",
      "source": [
        "## Calculo de medidas de Tendencia Central"
      ],
      "metadata": {
        "id": "ZLGy7hzerCEx"
      }
    },
    {
      "cell_type": "code",
      "source": [
        "print( ventas_pp)\n",
        "\n",
        "media = np.mean(ventas_pp)\n",
        "mediana = np.median(ventas_pp)\n",
        "moda_result = stats.mode(ventas_pp)\n",
        "\n",
        "print(f\"\\nLa media es: {media: .2f}\")\n",
        "print(f\"La mediana es: {mediana: .2f}\")\n",
        "\n",
        "if(moda_result[1] > 1):\n",
        "   print(f\"La moda es: {moda_result[0]:.2f}\")\n",
        "else:\n",
        "   print(\"NO HAY moda (amodal), porque no hay datos repetidos !\")"
      ],
      "metadata": {
        "colab": {
          "base_uri": "https://localhost:8080/"
        },
        "id": "Gsu9HvR1eXiy",
        "outputId": "8dc18d8c-386c-416a-a08c-8f81d7481cb9"
      },
      "execution_count": 3,
      "outputs": [
        {
          "output_type": "stream",
          "name": "stdout",
          "text": [
            "0      1.2\n",
            "1      2.5\n",
            "2      3.1\n",
            "3     18.3\n",
            "4     40.5\n",
            "5     52.1\n",
            "6     54.8\n",
            "7     46.2\n",
            "8     25.5\n",
            "9     13.8\n",
            "10    11.9\n",
            "11     9.2\n",
            "Name: Ventas (millones), dtype: float64\n",
            "\n",
            "La media es:  23.26\n",
            "La mediana es:  16.05\n",
            "NO HAY moda (amodal), porque no hay datos repetidos !\n"
          ]
        }
      ]
    },
    {
      "cell_type": "markdown",
      "source": [
        "Otra forma de ver si hay datos repetidos para procesar la moda:"
      ],
      "metadata": {
        "id": "Hz4QkxrEpXjo"
      }
    },
    {
      "cell_type": "code",
      "metadata": {
        "colab": {
          "base_uri": "https://localhost:8080/",
          "height": 544
        },
        "outputId": "01147815-e691-430f-a7c5-4c1e7f9dabbe",
        "id": "B9iLSbpqleHb"
      },
      "source": [
        "# Verificar si hay duplicados\n",
        "hay_duplicados = ventas_pp.duplicated().any()\n",
        "\n",
        "mensaje = \"SI\" if hay_duplicados else \"NO\"\n",
        "print(f\"¿Hay valores duplicados en las ventas ?:=> {mensaje}\")\n",
        "\n",
        "# Contar cuántas veces se repite cada valor (si hay duplicados)\n",
        "if hay_duplicados:\n",
        "    conteo_valores = ventas_pp.value_counts()\n",
        "    print(\"\\nConteo de cada valor:\")\n",
        "    print(conteo_valores)\n",
        "else:\n",
        "    print(\"\\nNo hay valores duplicados para contar.\")\n",
        "\n",
        "ventas_pp.value_counts()"
      ],
      "execution_count": 4,
      "outputs": [
        {
          "output_type": "stream",
          "name": "stdout",
          "text": [
            "¿Hay valores duplicados en las ventas ?:=> NO\n",
            "\n",
            "No hay valores duplicados para contar.\n"
          ]
        },
        {
          "output_type": "execute_result",
          "data": {
            "text/plain": [
              "Ventas (millones)\n",
              "1.2     1\n",
              "2.5     1\n",
              "3.1     1\n",
              "18.3    1\n",
              "40.5    1\n",
              "52.1    1\n",
              "54.8    1\n",
              "46.2    1\n",
              "25.5    1\n",
              "13.8    1\n",
              "11.9    1\n",
              "9.2     1\n",
              "Name: count, dtype: int64"
            ],
            "text/html": [
              "<div>\n",
              "<style scoped>\n",
              "    .dataframe tbody tr th:only-of-type {\n",
              "        vertical-align: middle;\n",
              "    }\n",
              "\n",
              "    .dataframe tbody tr th {\n",
              "        vertical-align: top;\n",
              "    }\n",
              "\n",
              "    .dataframe thead th {\n",
              "        text-align: right;\n",
              "    }\n",
              "</style>\n",
              "<table border=\"1\" class=\"dataframe\">\n",
              "  <thead>\n",
              "    <tr style=\"text-align: right;\">\n",
              "      <th></th>\n",
              "      <th>count</th>\n",
              "    </tr>\n",
              "    <tr>\n",
              "      <th>Ventas (millones)</th>\n",
              "      <th></th>\n",
              "    </tr>\n",
              "  </thead>\n",
              "  <tbody>\n",
              "    <tr>\n",
              "      <th>1.2</th>\n",
              "      <td>1</td>\n",
              "    </tr>\n",
              "    <tr>\n",
              "      <th>2.5</th>\n",
              "      <td>1</td>\n",
              "    </tr>\n",
              "    <tr>\n",
              "      <th>3.1</th>\n",
              "      <td>1</td>\n",
              "    </tr>\n",
              "    <tr>\n",
              "      <th>18.3</th>\n",
              "      <td>1</td>\n",
              "    </tr>\n",
              "    <tr>\n",
              "      <th>40.5</th>\n",
              "      <td>1</td>\n",
              "    </tr>\n",
              "    <tr>\n",
              "      <th>52.1</th>\n",
              "      <td>1</td>\n",
              "    </tr>\n",
              "    <tr>\n",
              "      <th>54.8</th>\n",
              "      <td>1</td>\n",
              "    </tr>\n",
              "    <tr>\n",
              "      <th>46.2</th>\n",
              "      <td>1</td>\n",
              "    </tr>\n",
              "    <tr>\n",
              "      <th>25.5</th>\n",
              "      <td>1</td>\n",
              "    </tr>\n",
              "    <tr>\n",
              "      <th>13.8</th>\n",
              "      <td>1</td>\n",
              "    </tr>\n",
              "    <tr>\n",
              "      <th>11.9</th>\n",
              "      <td>1</td>\n",
              "    </tr>\n",
              "    <tr>\n",
              "      <th>9.2</th>\n",
              "      <td>1</td>\n",
              "    </tr>\n",
              "  </tbody>\n",
              "</table>\n",
              "</div><br><label><b>dtype:</b> int64</label>"
            ]
          },
          "metadata": {},
          "execution_count": 4
        }
      ]
    },
    {
      "cell_type": "markdown",
      "source": [
        "*   **Media** (23.26 millones):   \n",
        "    Este es el promedio de ventas mensuales.  \n",
        "    Nos da una idea general del nivel de ventas a lo largo del año.\n",
        "\n",
        "*   **Mediana** (16.05 millones):  \n",
        "    Este es el valor central de las ventas una vez ordenadas.  \n",
        "    Es menos sensible a valores extremos (como las ventas altas de Mayo, Junio y Julio) que la media, por lo que puede ser una mejor representación de las ventas típicas en este caso.\n",
        "\n",
        "*   **Moda** (1.20 millones):  \n",
        "    Esto es un error !!!  NO EXISTE MODA !!!  \n",
        "    \n",
        "    En este caso, como no hay duplicados, SciPy devuelve el valor mínimo.  \n",
        "    Esto resalta la importancia de entender cómo funciona la moda en conjuntos de datos sin repeticiones y que, en este caso particular, la moda no es una medida útil para describir la tendencia central de las ventas.   \n",
        "      \n"
      ],
      "metadata": {
        "id": "RzNOJ1J3jBp7"
      }
    },
    {
      "cell_type": "markdown",
      "source": [
        "## Calculo de medidas de Dispersión:"
      ],
      "metadata": {
        "id": "M6QGU-Liqz7k"
      }
    },
    {
      "cell_type": "code",
      "source": [
        "rango = np.max(ventas_pp) - np.min(ventas_pp)\n",
        "print(f\"El rango es: {rango: .2f}\")\n",
        "\n",
        "varianza = np.var(ventas_pp)\n",
        "print(f\"La varianza es: {varianza: .2f}\")\n",
        "\n",
        "SD = np.std(ventas_pp)\n",
        "print(f\"La desviación estandar es: {SD: .2f}\")"
      ],
      "metadata": {
        "colab": {
          "base_uri": "https://localhost:8080/"
        },
        "id": "3ms_MBb6qNWW",
        "outputId": "94f8d842-266a-46a9-e6f2-fea3efae3218"
      },
      "execution_count": 5,
      "outputs": [
        {
          "output_type": "stream",
          "name": "stdout",
          "text": [
            "El rango es:  53.60\n",
            "La varianza es:  368.32\n",
            "La desviación estandar es:  19.19\n"
          ]
        }
      ]
    },
    {
      "cell_type": "code",
      "metadata": {
        "colab": {
          "base_uri": "https://localhost:8080/",
          "height": 607
        },
        "id": "d06ea8db",
        "outputId": "745b3134-fc8b-4b4c-99d3-1d2d7f5bd4f1"
      },
      "source": [
        "plt.figure(figsize=(8, 6))\n",
        "sns.lineplot(data=df_ventas, x='Mes', y='Ventas (millones)')\n",
        "plt.title('Ventas Mensuales a lo largo del Año')\n",
        "plt.xlabel('Mes')\n",
        "plt.ylabel('Ventas (millones)')\n",
        "plt.xticks(rotation=45)\n",
        "plt.grid(True)\n",
        "plt.tight_layout()\n",
        "plt.show()"
      ],
      "execution_count": null,
      "outputs": [
        {
          "output_type": "display_data",
          "data": {
            "text/plain": [
              "<Figure size 800x600 with 1 Axes>"
            ],
            "image/png": "[encoded data removed]"
          },
          "metadata": {}
        }
      ]
    },
    {
      "cell_type": "markdown",
      "metadata": {
        "id": "b65314a1"
      },
      "source": [
        "## Resumen de los hallazgos del análisis de ventas:  \n",
        "\n",
        "Basado en el análisis de los datos de ventas mensuales:\n",
        "\n",
        "*   **Medidas de Tendencia Central:**  \n",
        "\n",
        "    *   La **media** de ventas fueron aproximadamente  **23.26 millones**.  \n",
        "    Este es el valor promedio de ventas mensuales durante el año.  \n",
        "\n",
        "    *   La **mediana** de ventas fueron aproximadamente **16.05 millones**.   \n",
        "    Este es el valor medio cuando se ordenan las ventas, y se ve menos afectado por las mayores ventas en los meses pico, en comparación con la media.\n",
        "\n",
        "    *   **NO HAY MODA** para este conjunto de datos, porque no hay valores de ventas repetidos.\n",
        "\n",
        "*   **Medidas de Dispersión:**  \n",
        "\n",
        "    *   El **range** de ventas fué **53.60 millones**, indicando una gran diferencia entre las ventas mensuales más altas y las más bajas.\n",
        "\n",
        "    *   La **varianza** fué aproximadamente **368.32**, y la ** Desviación Standard ** fué aproximadamente **19.19**. Estos valores muestran una importante dispersión o variabilidad en los datos de ventas mensuales.\n",
        "\n",
        "*   **Estacionalidad:**\n",
        "    *   El gráfico de lineas muestra claramente una fuerte **Tendencia estacional**, con ventas aumentando significativamente de mayo a agosto y disminuyendo en otros meses.\n",
        "\n",
        "    *  Las **mayores ventas** se produjeron en **Julio** (54.8 milliones), y las **menores ventas** se produjeron en **Enero** (1.2 milliones).\n",
        "\n",
        "    *   Este pico distintivo durante el período mayo-agosto sugiere que es probable que el producto sea estacional, y que su demanda esté vinculada a una época específica del año.\n",
        "\n",
        "*   **Tipos de productos potenciales:**\n",
        "    *   Considerando el fuerte pico estacional en mayo-agosto, si los datos son del **Hemisferio Norte**, el producto probablemente podría ser **Bronceador** .\n",
        "    *   Si los datos son del **Hemisferio Sur**, el producto podría ser **Bufandas**.\n",
        "\n",
        "En general, los datos de ventas muestran un patrón estacional claro, con un pico significativo durante el período mayo-agosto, que domina la tendencia general de ventas e influye en las medidas de tendencia central y de dispersión."
      ]
    },
    {
      "cell_type": "code",
      "metadata": {
        "colab": {
          "base_uri": "https://localhost:8080/"
        },
        "id": "b2f04005",
        "outputId": "1666749b-97f6-43d6-8836-0b14fe139636"
      },
      "source": [
        "# Encontrar el mes con las mayores ventas\n",
        "max_ventas_mes = df_ventas.loc[df_ventas['Ventas (millones)'].idxmax()]\n",
        "print(f\"Mes con las mayores ventas:\\n{max_ventas_mes}\\n\")\n",
        "\n",
        "# Encontrar el mes con las mayores ventas\n",
        "min_ventas_mes = df_ventas.loc[df_ventas['Ventas (millones)'].idxmin()]\n",
        "print(f\"Mes con las menores ventas:\\n{min_ventas_mes}\")"
      ],
      "execution_count": 6,
      "outputs": [
        {
          "output_type": "stream",
          "name": "stdout",
          "text": [
            "Mes con las mayores ventas:\n",
            "Mes                  Julio\n",
            "Ventas (millones)     54.8\n",
            "Name: 6, dtype: object\n",
            "\n",
            "Mes con las menores ventas:\n",
            "Mes                  Enero\n",
            "Ventas (millones)      1.2\n",
            "Name: 0, dtype: object\n"
          ]
        }
      ]
    },
    {
      "cell_type": "markdown",
      "source": [
        "Teorizá a partir de las dos actividades:  \n",
        "Si tuvieras que adivinar de qué producto se trata,   \n",
        "\n",
        "¿cuál crees que se ajusta más a los valores obtenidos? Justificá tu elección.  \n",
        "[ ] Leche  \n",
        "[x] Bufanda  \n",
        "[ ] Árbol de navidad  \n",
        "[ ] Kit de geometría escolar  \n",
        "[x] Bronceador  \n"
      ],
      "metadata": {
        "id": "9BkdzRsIs5zp"
      }
    },
    {
      "cell_type": "markdown",
      "source": [
        "### Conclusión:  \n",
        "\n",
        "El aumento de las ventas entre mayo y agosto sugiere una venta estacional.  \n",
        "Coincidiendo con el invierno en el hemisferio Sur. Lo cual podria ser por ej: \"Bufandas\"    \n",
        "Como no conocemos la procedencia de los datos, podria ser ventas de verano en el hemisferio Norte y corresponder por ej: \"Bronceador\""
      ],
      "metadata": {
        "id": "aw2IbxgV0ZOx"
      }
    }
  ]
}